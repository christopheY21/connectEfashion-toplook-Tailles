{
 "cells": [
  {
   "cell_type": "code",
   "execution_count": 38,
   "metadata": {},
   "outputs": [],
   "source": [
    "from antlr4 import *\n",
    "from toplookSizesLexer import  toplookSizesLexer\n",
    "from toplookSizesListener import toplookSizesListener\n",
    "from toplookSizesParser import toplookSizesParser\n",
    "import sys"
   ]
  },
  {
   "cell_type": "code",
   "execution_count": 39,
   "metadata": {},
   "outputs": [],
   "source": [
    "input_stream = FileStream(\"test\")\n",
    "lexer = toplookSizesLexer(input_stream)\n",
    "stream = CommonTokenStream(lexer)\n",
    "parser = toplookSizesParser(stream)\n",
    "tree = parser.sizes()"
   ]
  },
  {
   "cell_type": "code",
   "execution_count": 40,
   "metadata": {},
   "outputs": [],
   "source": [
    "class SizesTranslator(toplookSizesListener):\n",
    "    def __init__(self):\n",
    "        self.sizesList = []\n",
    "        self.sizeNumberList =[]\n",
    "        self.sizeFormatList = []\n",
    "    def enterSize(self, ctx):\n",
    "        sizeNumber = ctx.INT()\n",
    "        self.sizeNumberList.append(sizeNumber)\n",
    "\n",
    "    def enterSizeformat(self, ctx: toplookSizesParser.SizeformatContext):\n",
    "        self.sizeFormatList.append(ctx.getText())\n",
    "\n",
    "    def getParseList(self):\n",
    "        if(len(self.sizeFormatList)==len(self.sizeNumberList)):\n",
    "            for i in range(len(self.sizeFormatList)):\n",
    "                self.sizesList.append(str(self.sizeNumberList[i])+\n",
    "                                      self.sizeFormatList[i]\n",
    "                                      )\n",
    "        return \",\".join(self.sizesList)"
   ]
  },
  {
   "cell_type": "code",
   "execution_count": 41,
   "metadata": {},
   "outputs": [],
   "source": [
    "printer =SizesTranslator()\n",
    "walker =ParseTreeWalker()\n",
    "walker.walk(printer,tree)"
   ]
  },
  {
   "cell_type": "code",
   "execution_count": 42,
   "metadata": {},
   "outputs": [
    {
     "data": {
      "text/plain": [
       "'1XS,2S,2M,1L'"
      ]
     },
     "execution_count": 42,
     "metadata": {},
     "output_type": "execute_result"
    }
   ],
   "source": [
    "printer.getParseList()"
   ]
  },
  {
   "cell_type": "code",
   "execution_count": null,
   "metadata": {},
   "outputs": [],
   "source": []
  }
 ],
 "metadata": {
  "kernelspec": {
   "display_name": "torchy",
   "language": "python",
   "name": "python3"
  },
  "language_info": {
   "codemirror_mode": {
    "name": "ipython",
    "version": 3
   },
   "file_extension": ".py",
   "mimetype": "text/x-python",
   "name": "python",
   "nbconvert_exporter": "python",
   "pygments_lexer": "ipython3",
   "version": "3.9.16"
  },
  "orig_nbformat": 4
 },
 "nbformat": 4,
 "nbformat_minor": 2
}

{
 "cells": [
  {
   "cell_type": "code",
   "execution_count": 1,
   "metadata": {},
   "outputs": [],
   "source": [
    "from antlr4 import *\n",
    "from toplookSizesLexer import  toplookSizesLexer\n",
    "from toplookSizesListener import toplookSizesListener\n",
    "from toplookSizesParser import toplookSizesParser\n",
    "import sys"
   ]
  },
  {
   "cell_type": "code",
   "execution_count": 7,
   "metadata": {},
   "outputs": [],
   "source": [
    "input_stream = FileStream(\"test\")\n",
    "lexer = toplookSizesLexer(input_stream)\n",
    "stream = CommonTokenStream(lexer)\n",
    "parser = toplookSizesParser(stream)\n",
    "tree = parser.sizes()"
   ]
  },
  {
   "cell_type": "code",
   "execution_count": 29,
   "metadata": {},
   "outputs": [],
   "source": [
    "class SizesTranslator(toplookSizesListener):\n",
    "    def __init__(self):\n",
    "        self.sizesList = []\n",
    "        self.sizeNumberList =[]\n",
    "        self.sizeFormatList = []\n",
    "    def enterSize(self, ctx):\n",
    "        sizeNumber = ctx.INT()\n",
    "        self.sizeNumberList.append(sizeNumber)\n",
    "\n",
    "    def enterSizeformat(self, ctx: toplookSizesParser.SizeformatContext):\n",
    "\n",
    "        return super().enterSizeformat(ctx)"
   ]
  },
  {
   "cell_type": "code",
   "execution_count": 30,
   "metadata": {},
   "outputs": [
    {
     "name": "stdout",
     "output_type": "stream",
     "text": [
      "[20 6]\n"
     ]
    }
   ],
   "source": [
    "printer =SizesTranslator()\n",
    "walker =ParseTreeWalker()\n",
    "walker.walk(printer,tree)"
   ]
  },
  {
   "cell_type": "code",
   "execution_count": null,
   "metadata": {},
   "outputs": [],
   "source": []
  }
 ],
 "metadata": {
  "kernelspec": {
   "display_name": "torchy",
   "language": "python",
   "name": "python3"
  },
  "language_info": {
   "codemirror_mode": {
    "name": "ipython",
    "version": 3
   },
   "file_extension": ".py",
   "mimetype": "text/x-python",
   "name": "python",
   "nbconvert_exporter": "python",
   "pygments_lexer": "ipython3",
   "version": "3.9.16"
  },
  "orig_nbformat": 4
 },
 "nbformat": 4,
 "nbformat_minor": 2
}
